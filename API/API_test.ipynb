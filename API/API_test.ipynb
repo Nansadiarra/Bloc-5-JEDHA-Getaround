{
  "nbformat": 4,
  "nbformat_minor": 0,
  "metadata": {
    "colab": {
      "provenance": []
    },
    "kernelspec": {
      "name": "python3",
      "display_name": "Python 3"
    },
    "language_info": {
      "name": "python"
    }
  },
  "cells": [
    {
      "cell_type": "code",
      "execution_count": 1,
      "metadata": {
        "colab": {
          "base_uri": "https://localhost:8080/"
        },
        "id": "iwso6HSWdL7j",
        "outputId": "4a1dfce6-cdeb-4501-eb58-d51708b3b50b"
      },
      "outputs": [
        {
          "output_type": "stream",
          "name": "stdout",
          "text": [
            "{'prediction': [107.64342092422214]}\n"
          ]
        }
      ],
      "source": [
        "import requests\n",
        "\n",
        "response = requests.post(\"https://getaround22.herokuapp.com/Prediction\", json={\n",
        "  \"model_key\": \"Citroën\",\n",
        "  \"mileage\": 140411,\n",
        "  \"engine_power\": 100,\n",
        "  \"fuel\": \"diesel\",\n",
        "  \"paint_color\": \"black\",\n",
        "  \"car_type\": \"convertible\",\n",
        "  \"private_parking_available\": True,\n",
        "  \"has_gps\": True,\n",
        "  \"has_air_conditioning\": False,\n",
        "  \"automatic_car\": False,\n",
        "  \"has_getaround_connect\": True,\n",
        "  \"has_speed_regulator\": False,\n",
        "  \"winter_tires\": True\n",
        "})\n",
        "\n",
        "print(response.json())"
      ]
    }
  ]
}